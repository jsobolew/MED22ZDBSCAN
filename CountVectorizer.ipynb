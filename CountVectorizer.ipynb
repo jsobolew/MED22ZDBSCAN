{
 "cells": [
  {
   "cell_type": "code",
   "execution_count": 14,
   "metadata": {},
   "outputs": [
    {
     "name": "stderr",
     "output_type": "stream",
     "text": [
      "c:\\Users\\QbaSo\\AppData\\Local\\Programs\\Python\\Python39\\lib\\site-packages\\requests\\__init__.py:102: RequestsDependencyWarning: urllib3 (1.26.9) or chardet (5.1.0)/charset_normalizer (2.0.12) doesn't match a supported version!\n",
      "  warnings.warn(\"urllib3 ({}) or chardet ({})/charset_normalizer ({}) doesn't match a supported \"\n"
     ]
    }
   ],
   "source": [
    "from sklearn.feature_extraction.text import CountVectorizer\n",
    "import gensim\n",
    "from sklearn.decomposition import PCA\n",
    "import matplotlib.pyplot as plt\n",
    "from sklearn.cluster import DBSCAN, KMeans, AgglomerativeClustering\n",
    "from DBSCAN import evaluate\n",
    "import numpy as np\n",
    "import pandas as pd\n",
    "from sklearn import preprocessing"
   ]
  },
  {
   "cell_type": "code",
   "execution_count": 61,
   "metadata": {},
   "outputs": [
    {
     "data": {
      "text/html": [
       "<div>\n",
       "<style scoped>\n",
       "    .dataframe tbody tr th:only-of-type {\n",
       "        vertical-align: middle;\n",
       "    }\n",
       "\n",
       "    .dataframe tbody tr th {\n",
       "        vertical-align: top;\n",
       "    }\n",
       "\n",
       "    .dataframe thead th {\n",
       "        text-align: right;\n",
       "    }\n",
       "</style>\n",
       "<table border=\"1\" class=\"dataframe\">\n",
       "  <thead>\n",
       "    <tr style=\"text-align: right;\">\n",
       "      <th></th>\n",
       "      <th>Unnamed: 0</th>\n",
       "      <th>year</th>\n",
       "      <th>ID</th>\n",
       "      <th>title</th>\n",
       "      <th>category</th>\n",
       "      <th>text</th>\n",
       "      <th>category_categorical</th>\n",
       "    </tr>\n",
       "  </thead>\n",
       "  <tbody>\n",
       "    <tr>\n",
       "      <th>0</th>\n",
       "      <td>0</td>\n",
       "      <td>2010</td>\n",
       "      <td>1</td>\n",
       "      <td>Identification of Orbital Eclipses in LAMOST J...</td>\n",
       "      <td>astro-ph</td>\n",
       "      <td>Draft version October 2, 2020\\nTypeset using L...</td>\n",
       "      <td>0</td>\n",
       "    </tr>\n",
       "    <tr>\n",
       "      <th>1</th>\n",
       "      <td>0</td>\n",
       "      <td>2010</td>\n",
       "      <td>2</td>\n",
       "      <td>Chemically Homogeneous Evolution: A rapid popu...</td>\n",
       "      <td>astro-ph</td>\n",
       "      <td>MNRAS 000, 1{16 (2021) Preprint 4 May 2021 Com...</td>\n",
       "      <td>0</td>\n",
       "    </tr>\n",
       "    <tr>\n",
       "      <th>2</th>\n",
       "      <td>0</td>\n",
       "      <td>2010</td>\n",
       "      <td>3</td>\n",
       "      <td>Spectral Decomposition in Deep Networks for Se...</td>\n",
       "      <td>cs</td>\n",
       "      <td>Spectral Decomposition in Deep Networks for\\nS...</td>\n",
       "      <td>2</td>\n",
       "    </tr>\n",
       "    <tr>\n",
       "      <th>3</th>\n",
       "      <td>0</td>\n",
       "      <td>2010</td>\n",
       "      <td>4</td>\n",
       "      <td>CrowdEst: A Method for Estimating (and not Sim...</td>\n",
       "      <td>cs</td>\n",
       "      <td>CGI2019 - TVCJ manuscript No.\\n(will be insert...</td>\n",
       "      <td>2</td>\n",
       "    </tr>\n",
       "    <tr>\n",
       "      <th>4</th>\n",
       "      <td>0</td>\n",
       "      <td>2010</td>\n",
       "      <td>5</td>\n",
       "      <td>Stable remnants and quantum gravity effects in...</td>\n",
       "      <td>hep-th</td>\n",
       "      <td>arXiv:2010.00005v1  [gr-qc]  30 Sep 2020Stable...</td>\n",
       "      <td>6</td>\n",
       "    </tr>\n",
       "    <tr>\n",
       "      <th>...</th>\n",
       "      <td>...</td>\n",
       "      <td>...</td>\n",
       "      <td>...</td>\n",
       "      <td>...</td>\n",
       "      <td>...</td>\n",
       "      <td>...</td>\n",
       "      <td>...</td>\n",
       "    </tr>\n",
       "    <tr>\n",
       "      <th>94</th>\n",
       "      <td>0</td>\n",
       "      <td>2010</td>\n",
       "      <td>95</td>\n",
       "      <td>Effect of surface disorder on the chiral surfa...</td>\n",
       "      <td>cond-mat</td>\n",
       "      <td>Effect of surface disorder on the chiral surfa...</td>\n",
       "      <td>1</td>\n",
       "    </tr>\n",
       "    <tr>\n",
       "      <th>95</th>\n",
       "      <td>0</td>\n",
       "      <td>2010</td>\n",
       "      <td>96</td>\n",
       "      <td>$t$-Resilient $k$-Immediate Snapshot and its R...</td>\n",
       "      <td>cs</td>\n",
       "      <td>arXiv:2010.00096v1  [cs.DC]  30 Sep 2020t-Resi...</td>\n",
       "      <td>2</td>\n",
       "    </tr>\n",
       "    <tr>\n",
       "      <th>96</th>\n",
       "      <td>0</td>\n",
       "      <td>2010</td>\n",
       "      <td>97</td>\n",
       "      <td>Extensions of the Stone Duality to the categor...</td>\n",
       "      <td>math</td>\n",
       "      <td>arXiv:2010.00097v1  [math.GN]  30 Sep 2020Exte...</td>\n",
       "      <td>7</td>\n",
       "    </tr>\n",
       "    <tr>\n",
       "      <th>97</th>\n",
       "      <td>0</td>\n",
       "      <td>2010</td>\n",
       "      <td>98</td>\n",
       "      <td>Massive Uncoordinated Multiple Access for Beyo...</td>\n",
       "      <td>cs</td>\n",
       "      <td>1\\nMassive Uncoordinated Multiple Access\\nfor ...</td>\n",
       "      <td>2</td>\n",
       "    </tr>\n",
       "    <tr>\n",
       "      <th>98</th>\n",
       "      <td>0</td>\n",
       "      <td>2010</td>\n",
       "      <td>99</td>\n",
       "      <td>On the birational motive of hyper-K\\\"ahler var...</td>\n",
       "      <td>math</td>\n",
       "      <td>arXiv:2010.00099v3  [math.AG]  17 Mar 2022ON T...</td>\n",
       "      <td>7</td>\n",
       "    </tr>\n",
       "  </tbody>\n",
       "</table>\n",
       "<p>99 rows × 7 columns</p>\n",
       "</div>"
      ],
      "text/plain": [
       "    Unnamed: 0  year  ID                                              title  \\\n",
       "0            0  2010   1  Identification of Orbital Eclipses in LAMOST J...   \n",
       "1            0  2010   2  Chemically Homogeneous Evolution: A rapid popu...   \n",
       "2            0  2010   3  Spectral Decomposition in Deep Networks for Se...   \n",
       "3            0  2010   4  CrowdEst: A Method for Estimating (and not Sim...   \n",
       "4            0  2010   5  Stable remnants and quantum gravity effects in...   \n",
       "..         ...   ...  ..                                                ...   \n",
       "94           0  2010  95  Effect of surface disorder on the chiral surfa...   \n",
       "95           0  2010  96  $t$-Resilient $k$-Immediate Snapshot and its R...   \n",
       "96           0  2010  97  Extensions of the Stone Duality to the categor...   \n",
       "97           0  2010  98  Massive Uncoordinated Multiple Access for Beyo...   \n",
       "98           0  2010  99  On the birational motive of hyper-K\\\"ahler var...   \n",
       "\n",
       "    category                                               text  \\\n",
       "0   astro-ph  Draft version October 2, 2020\\nTypeset using L...   \n",
       "1   astro-ph  MNRAS 000, 1{16 (2021) Preprint 4 May 2021 Com...   \n",
       "2         cs  Spectral Decomposition in Deep Networks for\\nS...   \n",
       "3         cs  CGI2019 - TVCJ manuscript No.\\n(will be insert...   \n",
       "4     hep-th  arXiv:2010.00005v1  [gr-qc]  30 Sep 2020Stable...   \n",
       "..       ...                                                ...   \n",
       "94  cond-mat  Effect of surface disorder on the chiral surfa...   \n",
       "95        cs  arXiv:2010.00096v1  [cs.DC]  30 Sep 2020t-Resi...   \n",
       "96      math  arXiv:2010.00097v1  [math.GN]  30 Sep 2020Exte...   \n",
       "97        cs  1\\nMassive Uncoordinated Multiple Access\\nfor ...   \n",
       "98      math  arXiv:2010.00099v3  [math.AG]  17 Mar 2022ON T...   \n",
       "\n",
       "    category_categorical  \n",
       "0                      0  \n",
       "1                      0  \n",
       "2                      2  \n",
       "3                      2  \n",
       "4                      6  \n",
       "..                   ...  \n",
       "94                     1  \n",
       "95                     2  \n",
       "96                     7  \n",
       "97                     2  \n",
       "98                     7  \n",
       "\n",
       "[99 rows x 7 columns]"
      ]
     },
     "execution_count": 61,
     "metadata": {},
     "output_type": "execute_result"
    }
   ],
   "source": [
    "articles = pd.read_csv(\"100Articles.csv\")\n",
    "le = preprocessing.LabelEncoder()\n",
    "le.fit(articles['category'])\n",
    "articles['category_categorical'] = le.transform(articles['category'])\n",
    "articles"
   ]
  },
  {
   "cell_type": "code",
   "execution_count": 62,
   "metadata": {},
   "outputs": [
    {
     "name": "stdout",
     "output_type": "stream",
     "text": [
      "[[0 0 0 ... 0 0 0]\n",
      " [0 1 0 ... 0 0 0]\n",
      " [0 0 0 ... 0 0 0]\n",
      " ...\n",
      " [0 0 0 ... 0 0 0]\n",
      " [0 0 0 ... 0 0 0]\n",
      " [0 0 0 ... 0 0 0]]\n"
     ]
    }
   ],
   "source": [
    "corpus = articles['text']\n",
    "vectorizer = CountVectorizer()\n",
    "X = vectorizer.fit_transform(corpus)\n",
    "vectorizer.get_feature_names_out()\n",
    "\n",
    "print(X.toarray())"
   ]
  },
  {
   "cell_type": "code",
   "execution_count": 84,
   "metadata": {},
   "outputs": [
    {
     "name": "stdout",
     "output_type": "stream",
     "text": [
      "Estimated number of clusters: 14\n",
      "Estimated number of noise points: 0\n",
      "Homogeneity: 0.155\n",
      "Completeness: 0.403\n",
      "V-measure: 0.224\n",
      "Adjusted Rand Index: 0.030\n",
      "Adjusted Mutual Information: 0.034\n",
      "Silhouette Coefficient: 0.348\n",
      "14\n"
     ]
    },
    {
     "data": {
      "image/png": "[encoded data removed]",
      "text/plain": [
       "<Figure size 432x288 with 1 Axes>"
      ]
     },
     "metadata": {
      "needs_background": "light"
     },
     "output_type": "display_data"
    },
    {
     "data": {
      "image/png": "[encoded data removed]",
      "text/plain": [
       "<Figure size 432x288 with 1 Axes>"
      ]
     },
     "metadata": {
      "needs_background": "light"
     },
     "output_type": "display_data"
    },
    {
     "data": {
      "image/png": "[encoded data removed]",
      "text/plain": [
       "<Figure size 432x288 with 1 Axes>"
      ]
     },
     "metadata": {
      "needs_background": "light"
     },
     "output_type": "display_data"
    }
   ],
   "source": [
    "eps = 400\n",
    "minPts = 1\n",
    "vectors = X.toarray()\n",
    "label = articles['category_categorical'].values\n",
    "order = np.argsort(label)\n",
    "label = label[order]\n",
    "vectors = np.array(vectors)[order]\n",
    "\n",
    "clustering = DBSCAN(eps=eps, min_samples=minPts).fit(vectors)\n",
    "labels = clustering.labels_\n",
    "\n",
    "evaluate(labels, label, vectors)\n",
    "\n",
    "print(len(np.unique(labels)))\n",
    "\n",
    "pca = PCA()\n",
    "Xt = pca.fit_transform(vectors)\n",
    "plot = plt.scatter(Xt[:,0], Xt[:,1], c=labels)\n",
    "plt.show()\n",
    "\n",
    "plot = plt.scatter(Xt[:,0], Xt[:,1], c=label)\n",
    "plt.show()\n",
    "\n",
    "plt.plot(label)\n",
    "plt.plot(labels)\n",
    "plt.show()"
   ]
  },
  {
   "attachments": {},
   "cell_type": "markdown",
   "metadata": {},
   "source": [
    "# Przykłady działające byle jak ale działające"
   ]
  },
  {
   "cell_type": "code",
   "execution_count": 58,
   "metadata": {},
   "outputs": [
    {
     "name": "stdout",
     "output_type": "stream",
     "text": [
      "Estimated number of clusters: 5\n",
      "Estimated number of noise points: 0\n",
      "Homogeneity: 0.758\n",
      "Completeness: 0.668\n",
      "V-measure: 0.710\n",
      "Adjusted Rand Index: 0.396\n",
      "Adjusted Mutual Information: 0.408\n",
      "Silhouette Coefficient: 0.328\n",
      "5\n"
     ]
    },
    {
     "data": {
      "image/png": "[encoded data removed]",
      "text/plain": [
       "<Figure size 432x288 with 1 Axes>"
      ]
     },
     "metadata": {
      "needs_background": "light"
     },
     "output_type": "display_data"
    },
    {
     "data": {
      "image/png": "[encoded data removed]",
      "text/plain": [
       "<Figure size 432x288 with 1 Axes>"
      ]
     },
     "metadata": {
      "needs_background": "light"
     },
     "output_type": "display_data"
    },
    {
     "data": {
      "image/png": "[encoded data removed]",
      "text/plain": [
       "<Figure size 432x288 with 1 Axes>"
      ]
     },
     "metadata": {
      "needs_background": "light"
     },
     "output_type": "display_data"
    }
   ],
   "source": [
    "articles = pd.read_csv(\"10Articles.csv\")\n",
    "le = preprocessing.LabelEncoder()\n",
    "le.fit(articles['category'])\n",
    "articles['category_categorical'] = le.transform(articles['category'])\n",
    "\n",
    "corpus = articles['text']\n",
    "vectorizer = CountVectorizer()\n",
    "X = vectorizer.fit_transform(corpus)\n",
    "vectorizer.get_feature_names_out()\n",
    "\n",
    "eps = 100\n",
    "minPts = 1\n",
    "vectors = X.toarray()\n",
    "label = articles['category_categorical'].values\n",
    "\n",
    "clustering = DBSCAN(eps=eps, min_samples=minPts).fit(vectors)\n",
    "labels = clustering.labels_\n",
    "\n",
    "evaluate(labels, label, vectors)\n",
    "\n",
    "print(len(np.unique(labels)))\n",
    "\n",
    "pca = PCA()\n",
    "Xt = pca.fit_transform(vectors)\n",
    "plot = plt.scatter(Xt[:,0], Xt[:,1], c=labels)\n",
    "plt.show()\n",
    "\n",
    "plot = plt.scatter(Xt[:,0], Xt[:,1], c=label)\n",
    "plt.show()\n",
    "\n",
    "plt.plot(label)\n",
    "plt.plot(labels)\n",
    "plt.show()"
   ]
  }
 ],
 "metadata": {
  "kernelspec": {
   "display_name": "Python 3",
   "language": "python",
   "name": "python3"
  },
  "language_info": {
   "codemirror_mode": {
    "name": "ipython",
    "version": 3
   },
   "file_extension": ".py",
   "mimetype": "text/x-python",
   "name": "python",
   "nbconvert_exporter": "python",
   "pygments_lexer": "ipython3",
   "version": "3.9.10"
  },
  "orig_nbformat": 4,
  "vscode": {
   "interpreter": {
    "hash": "4249f8e087ad731f5e338836e2eb79540285f90ed1dfcc5ccaf8d5c2082bb200"
   }
  }
 },
 "nbformat": 4,
 "nbformat_minor": 2
}
