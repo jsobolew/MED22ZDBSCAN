{
 "cells": [
  {
   "cell_type": "code",
   "execution_count": 1,
   "metadata": {},
   "outputs": [],
   "source": [
    "import numpy as np\n",
    "import matplotlib.pyplot as plt\n",
    "from DBSCAN import evaluate"
   ]
  },
  {
   "cell_type": "markdown",
   "metadata": {},
   "source": [
    "# Data"
   ]
  },
  {
   "cell_type": "code",
   "execution_count": 2,
   "metadata": {},
   "outputs": [
    {
     "data": {
      "image/png": "[encoded data removed]",
      "text/plain": [
       "<Figure size 432x288 with 1 Axes>"
      ]
     },
     "metadata": {
      "needs_background": "light"
     },
     "output_type": "display_data"
    }
   ],
   "source": [
    "Npoints = 20\n",
    "n = int(Npoints/2)\n",
    "\n",
    "x = np.random.normal(1,1,n)\n",
    "y = np.random.normal(1,1,n)\n",
    "labels_true = np.zeros(shape=(n,))\n",
    "x = np.concatenate([x,np.random.normal(7,1,n)])\n",
    "y = np.concatenate([y,np.random.normal(1,1,n)])\n",
    "labels_true = np.concatenate([labels_true, np.ones(shape=(n,))])\n",
    "\n",
    "plt.plot(x,y,'.')\n",
    "\n",
    "X = []\n",
    "for i in range(len(x)):\n",
    "    X.append([x[i],y[i]])\n",
    "X = np.array(X)"
   ]
  },
  {
   "attachments": {},
   "cell_type": "markdown",
   "metadata": {},
   "source": [
    "# hdbscan\n"
   ]
  },
  {
   "cell_type": "code",
   "execution_count": 3,
   "metadata": {},
   "outputs": [],
   "source": [
    "xydists = np.array([np.array([x for _ in range(len(X))]) - X for x in X])"
   ]
  },
  {
   "cell_type": "code",
   "execution_count": 4,
   "metadata": {},
   "outputs": [],
   "source": [
    "xydists = np.array([np.array([x for _ in range(len(X))]) - X for x in X])\n",
    "dists = np.sqrt(xydists[:,:,0]**2 + xydists[:,:,1]**2)\n",
    "dists[np.triu_indices(Npoints)] = np.max(dists)"
   ]
  },
  {
   "cell_type": "code",
   "execution_count": 41,
   "metadata": {},
   "outputs": [
    {
     "data": {
      "text/plain": [
       "array([[[8.9049378 , 8.9049378 , 8.9049378 , ..., 8.9049378 ,\n",
       "         8.9049378 , 8.9049378 ],\n",
       "        [3.04800767, 8.9049378 , 8.9049378 , ..., 8.9049378 ,\n",
       "         8.9049378 , 8.9049378 ],\n",
       "        [2.38441473, 1.66362527, 8.9049378 , ..., 8.9049378 ,\n",
       "         8.9049378 , 8.9049378 ],\n",
       "        ...,\n",
       "        [6.20656954, 4.26939165, 5.89775861, ..., 8.9049378 ,\n",
       "         8.9049378 , 8.9049378 ],\n",
       "        [4.85400015, 3.42302454, 4.91466572, ..., 1.46416771,\n",
       "         8.9049378 , 8.9049378 ],\n",
       "        [5.77371809, 4.39661996, 5.90910089, ..., 1.12904113,\n",
       "         0.99599672, 8.9049378 ]],\n",
       "\n",
       "       [[8.9049378 , 8.9049378 , 8.9049378 , ..., 8.9049378 ,\n",
       "         8.9049378 , 8.9049378 ],\n",
       "        [3.04800767, 8.9049378 , 8.9049378 , ..., 8.9049378 ,\n",
       "         8.9049378 , 8.9049378 ],\n",
       "        [2.38441473, 1.66362527, 8.9049378 , ..., 8.9049378 ,\n",
       "         8.9049378 , 8.9049378 ],\n",
       "        ...,\n",
       "        [6.20656954, 4.26939165, 5.89775861, ..., 8.9049378 ,\n",
       "         8.9049378 , 8.9049378 ],\n",
       "        [4.85400015, 3.42302454, 4.91466572, ..., 1.46416771,\n",
       "         8.9049378 , 8.9049378 ],\n",
       "        [5.77371809, 4.39661996, 5.90910089, ..., 1.12904113,\n",
       "         0.99599672, 8.9049378 ]],\n",
       "\n",
       "       [[3.04800767, 8.9049378 , 8.9049378 , ..., 8.9049378 ,\n",
       "         8.9049378 , 8.9049378 ],\n",
       "        [8.9049378 , 8.9049378 , 8.9049378 , ..., 8.9049378 ,\n",
       "         8.9049378 , 8.9049378 ],\n",
       "        [2.38441473, 1.66362527, 8.9049378 , ..., 8.9049378 ,\n",
       "         8.9049378 , 8.9049378 ],\n",
       "        ...,\n",
       "        [6.20656954, 4.26939165, 5.89775861, ..., 8.9049378 ,\n",
       "         8.9049378 , 8.9049378 ],\n",
       "        [4.85400015, 3.42302454, 4.91466572, ..., 1.46416771,\n",
       "         8.9049378 , 8.9049378 ],\n",
       "        [5.77371809, 4.39661996, 5.90910089, ..., 1.12904113,\n",
       "         0.99599672, 8.9049378 ]],\n",
       "\n",
       "       ...,\n",
       "\n",
       "       [[6.12577139, 4.03932355, 5.68508762, ..., 8.9049378 ,\n",
       "         8.9049378 , 8.9049378 ],\n",
       "        [6.68180963, 4.81681437, 6.44105493, ..., 8.9049378 ,\n",
       "         8.9049378 , 8.9049378 ],\n",
       "        [5.79270404, 4.13539719, 5.70863694, ..., 8.9049378 ,\n",
       "         8.9049378 , 8.9049378 ],\n",
       "        ...,\n",
       "        [6.20656954, 4.26939165, 5.89775861, ..., 8.9049378 ,\n",
       "         8.9049378 , 8.9049378 ],\n",
       "        [4.85400015, 3.42302454, 4.91466572, ..., 1.46416771,\n",
       "         8.9049378 , 8.9049378 ],\n",
       "        [5.77371809, 4.39661996, 5.90910089, ..., 1.12904113,\n",
       "         0.99599672, 8.9049378 ]],\n",
       "\n",
       "       [[4.74088728, 3.23406623, 4.73838702, ..., 8.9049378 ,\n",
       "         8.9049378 , 8.9049378 ],\n",
       "        [5.79270404, 4.13539719, 5.70863694, ..., 8.9049378 ,\n",
       "         8.9049378 , 8.9049378 ],\n",
       "        [6.20656954, 4.26939165, 5.89775861, ..., 8.9049378 ,\n",
       "         8.9049378 , 8.9049378 ],\n",
       "        ...,\n",
       "        [1.73579571, 4.75086148, 4.06582514, ..., 8.9049378 ,\n",
       "         8.9049378 , 8.9049378 ],\n",
       "        [4.85400015, 3.42302454, 4.91466572, ..., 1.46416771,\n",
       "         8.9049378 , 8.9049378 ],\n",
       "        [5.77371809, 4.39661996, 5.90910089, ..., 1.12904113,\n",
       "         0.99599672, 8.9049378 ]],\n",
       "\n",
       "       [[5.79270404, 4.13539719, 5.70863694, ..., 8.9049378 ,\n",
       "         8.9049378 , 8.9049378 ],\n",
       "        [4.85400015, 3.42302454, 4.91466572, ..., 1.46416771,\n",
       "         8.9049378 , 8.9049378 ],\n",
       "        [6.20656954, 4.26939165, 5.89775861, ..., 8.9049378 ,\n",
       "         8.9049378 , 8.9049378 ],\n",
       "        ...,\n",
       "        [2.38441473, 1.66362527, 8.9049378 , ..., 8.9049378 ,\n",
       "         8.9049378 , 8.9049378 ],\n",
       "        [1.73579571, 4.75086148, 4.06582514, ..., 8.9049378 ,\n",
       "         8.9049378 , 8.9049378 ],\n",
       "        [5.77371809, 4.39661996, 5.90910089, ..., 1.12904113,\n",
       "         0.99599672, 8.9049378 ]]])"
      ]
     },
     "execution_count": 41,
     "metadata": {},
     "output_type": "execute_result"
    }
   ],
   "source": [
    "dists[np.argpartition(dists, np.arange(20))]"
   ]
  },
  {
   "cell_type": "code",
   "execution_count": 5,
   "metadata": {},
   "outputs": [],
   "source": [
    "idx = np.argsort(dists)"
   ]
  },
  {
   "cell_type": "code",
   "execution_count": 33,
   "metadata": {},
   "outputs": [
    {
     "data": {
      "text/plain": [
       "array([[8.9049378 , 8.9049378 , 8.9049378 , 8.9049378 , 8.9049378 ,\n",
       "        8.9049378 , 8.9049378 , 8.9049378 , 8.9049378 , 8.9049378 ,\n",
       "        8.9049378 , 8.9049378 , 8.9049378 , 8.9049378 , 8.9049378 ,\n",
       "        8.9049378 , 8.9049378 , 8.9049378 , 8.9049378 , 8.9049378 ],\n",
       "       [3.04800767, 8.9049378 , 8.9049378 , 8.9049378 , 8.9049378 ,\n",
       "        8.9049378 , 8.9049378 , 8.9049378 , 8.9049378 , 8.9049378 ,\n",
       "        8.9049378 , 8.9049378 , 8.9049378 , 8.9049378 , 8.9049378 ,\n",
       "        8.9049378 , 8.9049378 , 8.9049378 , 8.9049378 , 8.9049378 ],\n",
       "       [1.66362527, 2.38441473, 8.9049378 , 8.9049378 , 8.9049378 ,\n",
       "        8.9049378 , 8.9049378 , 8.9049378 , 8.9049378 , 8.9049378 ,\n",
       "        8.9049378 , 8.9049378 , 8.9049378 , 8.9049378 , 8.9049378 ,\n",
       "        8.9049378 , 8.9049378 , 8.9049378 , 8.9049378 , 8.9049378 ],\n",
       "       [0.15532654, 1.66606464, 2.23063774, 8.9049378 , 8.9049378 ,\n",
       "        8.9049378 , 8.9049378 , 8.9049378 , 8.9049378 , 8.9049378 ,\n",
       "        8.9049378 , 8.9049378 , 8.9049378 , 8.9049378 , 8.9049378 ,\n",
       "        8.9049378 , 8.9049378 , 8.9049378 , 8.9049378 , 8.9049378 ],\n",
       "       [0.79022392, 0.84127408, 0.94298087, 2.29304623, 8.9049378 ,\n",
       "        8.9049378 , 8.9049378 , 8.9049378 , 8.9049378 , 8.9049378 ,\n",
       "        8.9049378 , 8.9049378 , 8.9049378 , 8.9049378 , 8.9049378 ,\n",
       "        8.9049378 , 8.9049378 , 8.9049378 , 8.9049378 , 8.9049378 ],\n",
       "       [0.46744688, 0.62136248, 0.88216571, 1.76321728, 1.8251416 ,\n",
       "        8.9049378 , 8.9049378 , 8.9049378 , 8.9049378 , 8.9049378 ,\n",
       "        8.9049378 , 8.9049378 , 8.9049378 , 8.9049378 , 8.9049378 ,\n",
       "        8.9049378 , 8.9049378 , 8.9049378 , 8.9049378 , 8.9049378 ],\n",
       "       [1.73579571, 3.4536309 , 3.91657394, 4.02839357, 4.06582514,\n",
       "        4.75086148, 8.9049378 , 8.9049378 , 8.9049378 , 8.9049378 ,\n",
       "        8.9049378 , 8.9049378 , 8.9049378 , 8.9049378 , 8.9049378 ,\n",
       "        8.9049378 , 8.9049378 , 8.9049378 , 8.9049378 , 8.9049378 ],\n",
       "       [0.82741964, 0.97134494, 1.28865623, 1.43833675, 1.54014832,\n",
       "        2.4295225 , 2.62791771, 8.9049378 , 8.9049378 , 8.9049378 ,\n",
       "        8.9049378 , 8.9049378 , 8.9049378 , 8.9049378 , 8.9049378 ,\n",
       "        8.9049378 , 8.9049378 , 8.9049378 , 8.9049378 , 8.9049378 ],\n",
       "       [0.53073546, 1.29334653, 2.07398685, 2.09834104, 2.14194891,\n",
       "        2.61590114, 3.08452935, 4.72411401, 8.9049378 , 8.9049378 ,\n",
       "        8.9049378 , 8.9049378 , 8.9049378 , 8.9049378 , 8.9049378 ,\n",
       "        8.9049378 , 8.9049378 , 8.9049378 , 8.9049378 , 8.9049378 ],\n",
       "       [0.14356896, 0.86115518, 0.90782629, 1.37458721, 1.52713859,\n",
       "        1.55530609, 2.41902675, 2.54987139, 2.57711011, 8.9049378 ,\n",
       "        8.9049378 , 8.9049378 , 8.9049378 , 8.9049378 , 8.9049378 ,\n",
       "        8.9049378 , 8.9049378 , 8.9049378 , 8.9049378 , 8.9049378 ],\n",
       "       [5.90631749, 6.39821388, 7.15788191, 7.9064708 , 7.94771288,\n",
       "        7.96540718, 7.97786572, 7.99104051, 8.06775458, 8.9049378 ,\n",
       "        8.9049378 , 8.9049378 , 8.9049378 , 8.9049378 , 8.9049378 ,\n",
       "        8.9049378 , 8.9049378 , 8.9049378 , 8.9049378 , 8.9049378 ],\n",
       "       [2.48522658, 3.58936376, 4.03932355, 4.87922697, 5.66327567,\n",
       "        5.68508762, 5.69571013, 5.92346987, 6.00343242, 6.12577139,\n",
       "        7.37725387, 8.9049378 , 8.9049378 , 8.9049378 , 8.9049378 ,\n",
       "        8.9049378 , 8.9049378 , 8.9049378 , 8.9049378 , 8.9049378 ],\n",
       "       [1.54392593, 2.71108696, 3.23406623, 3.30794636, 3.89769022,\n",
       "        4.60980594, 4.66486333, 4.68154434, 4.73838702, 4.74088728,\n",
       "        4.76398768, 5.8799529 , 8.9049378 , 8.9049378 , 8.9049378 ,\n",
       "        8.9049378 , 8.9049378 , 8.9049378 , 8.9049378 , 8.9049378 ],\n",
       "       [0.8510367 , 1.63605415, 1.94642453, 4.34368029, 4.81681437,\n",
       "        5.61991298, 6.40757753, 6.40909799, 6.44105493, 6.56061304,\n",
       "        6.65085565, 6.68180963, 7.80781649, 8.9049378 , 8.9049378 ,\n",
       "        8.9049378 , 8.9049378 , 8.9049378 , 8.9049378 , 8.9049378 ],\n",
       "       [1.96159545, 3.12111643, 3.19435787, 3.70824374, 4.00158449,\n",
       "        4.5159008 , 4.77619119, 4.87073313, 5.04729892, 5.17868452,\n",
       "        5.33719595, 5.35012242, 5.56593053, 5.66770332, 8.9049378 ,\n",
       "        8.9049378 , 8.9049378 , 8.9049378 , 8.9049378 , 8.9049378 ],\n",
       "       [0.8908387 , 0.92010442, 1.05372076, 2.28595845, 2.33824346,\n",
       "        3.63283091, 4.13539719, 4.87361265, 5.62199117, 5.66304978,\n",
       "        5.70863694, 5.71278566, 5.79270404, 5.80947318, 6.88951497,\n",
       "        8.9049378 , 8.9049378 , 8.9049378 , 8.9049378 , 8.9049378 ],\n",
       "       [0.71554974, 1.33955394, 1.37089926, 1.63537968, 2.6567251 ,\n",
       "        3.76273232, 4.95751365, 5.41022267, 6.24508033, 7.03078651,\n",
       "        7.05239409, 7.05453563, 7.24044507, 7.32695607, 7.38380962,\n",
       "        8.52320934, 8.9049378 , 8.9049378 , 8.9049378 , 8.9049378 ],\n",
       "       [0.36658321, 0.54920202, 0.63715476, 1.18750576, 1.51234153,\n",
       "        2.17497159, 2.97524956, 3.7996478 , 4.26939165, 5.07956201,\n",
       "        5.86795692, 5.87514662, 5.89775861, 6.05295292, 6.13954165,\n",
       "        6.20656954, 7.39147059, 8.9049378 , 8.9049378 , 8.9049378 ],\n",
       "       [0.19635289, 0.9455228 , 1.46416771, 1.54232963, 1.82827808,\n",
       "        1.85888727, 2.57381002, 2.89847501, 3.16077588, 3.42302454,\n",
       "        4.07351636, 4.77364849, 4.80494721, 4.85400015, 4.85514703,\n",
       "        4.90698517, 4.91466572, 5.94984411, 8.9049378 , 8.9049378 ],\n",
       "       [0.54145004, 0.99599672, 1.12904113, 1.17140025, 1.2216767 ,\n",
       "        1.42331713, 1.88884616, 1.90126555, 2.20442921, 3.8772707 ,\n",
       "        4.39661996, 5.0681589 , 5.76797873, 5.77371809, 5.77455313,\n",
       "        5.85071949, 5.88065699, 5.90910089, 6.75189131, 8.9049378 ]])"
      ]
     },
     "execution_count": 33,
     "metadata": {},
     "output_type": "execute_result"
    }
   ],
   "source": [
    "np.take_along_axis(dists, idx, axis=1)"
   ]
  },
  {
   "cell_type": "code",
   "execution_count": 113,
   "metadata": {},
   "outputs": [],
   "source": [
    "def HDBSCAN(X, threshold):\n",
    "    xydists = np.array([np.array([x for _ in range(len(X))]) - X for x in X])\n",
    "    dists = np.sqrt(xydists[:,:,0]**2 + xydists[:,:,1]**2)\n",
    "    max_dist = np.max(dists)\n",
    "    dists[np.triu_indices(Npoints)] = max_dist\n",
    "\n",
    "    mindist = [0]\n",
    "    mindistPts = []\n",
    "\n",
    "    plt.plot(X[:,0],X[:,1],'o')\n",
    "\n",
    "    i = 0\n",
    "    while mindist[-1] < threshold and i<dists.size:\n",
    "        minidx = np.argmin(dists)\n",
    "        row = minidx // 20\n",
    "        col = minidx % 20\n",
    "        mindist.append(dists[row,col])\n",
    "        mindistPts.append([row, col])\n",
    "        dists[row,col] = max_dist\n",
    "        plt.plot(X[row,0],X[row,1],'or')\n",
    "        plt.plot(X[col,0],X[col,1],'or')\n",
    "        plt.plot([X[row,0],X[col,0]],[X[row,1],X[col,1]], 'b')\n",
    "        i += 1\n",
    "    plt.show()"
   ]
  },
  {
   "cell_type": "code",
   "execution_count": 117,
   "metadata": {},
   "outputs": [
    {
     "data": {
      "image/png": "[encoded data removed]",
      "text/plain": [
       "<Figure size 432x288 with 1 Axes>"
      ]
     },
     "metadata": {
      "needs_background": "light"
     },
     "output_type": "display_data"
    }
   ],
   "source": [
    "HDBSCAN(X, 2)"
   ]
  },
  {
   "cell_type": "code",
   "execution_count": 89,
   "metadata": {},
   "outputs": [
    {
     "data": {
      "image/png": "[encoded data removed]",
      "text/plain": [
       "<Figure size 432x288 with 1 Axes>"
      ]
     },
     "metadata": {
      "needs_background": "light"
     },
     "output_type": "display_data"
    }
   ],
   "source": [
    "xydists = np.array([np.array([x for _ in range(len(X))]) - X for x in X])\n",
    "dists = np.sqrt(xydists[:,:,0]**2 + xydists[:,:,1]**2)\n",
    "max_dist = np.max(dists)\n",
    "dists[np.triu_indices(Npoints)] = max_dist\n",
    "\n",
    "\n",
    "mindist = []\n",
    "mindistPts = []\n",
    "\n",
    "plt.plot(X[:,0],X[:,1],'o')\n",
    "\n",
    "for i in range(55):\n",
    "    minidx = np.argmin(dists)\n",
    "    row = minidx // 20\n",
    "    col = minidx % 20\n",
    "    mindist.append(dists[row,col])\n",
    "    mindistPts.append([row, col])\n",
    "    dists[row,col] = max_dist\n",
    "    plt.plot(X[row,0],X[row,1],'or')\n",
    "    plt.plot(X[col,0],X[col,1],'or')\n",
    "    plt.plot([X[row,0],X[col,0]],[X[row,1],X[col,1]], 'b')\n",
    "plt.show()"
   ]
  },
  {
   "cell_type": "code",
   "execution_count": 62,
   "metadata": {},
   "outputs": [
    {
     "data": {
      "text/plain": [
       "[0.1435689575430088,\n",
       " 0.15532653689873924,\n",
       " 0.19635289179977455,\n",
       " 0.36658321387938686,\n",
       " 0.46744688461699485,\n",
       " 0.5307354577967827,\n",
       " 0.5414500385989995,\n",
       " 0.5492020217627831,\n",
       " 0.6213624792718169,\n",
       " 0.6371547599192794]"
      ]
     },
     "execution_count": 62,
     "metadata": {},
     "output_type": "execute_result"
    }
   ],
   "source": [
    "mindist"
   ]
  },
  {
   "cell_type": "code",
   "execution_count": 63,
   "metadata": {},
   "outputs": [
    {
     "data": {
      "text/plain": [
       "[[2, 1],\n",
       " [7, 5],\n",
       " [12, 10],\n",
       " [16, 15],\n",
       " [5, 4],\n",
       " [9, 8],\n",
       " [14, 13],\n",
       " [17, 16],\n",
       " [7, 4],\n",
       " [16, 14]]"
      ]
     },
     "execution_count": 63,
     "metadata": {},
     "output_type": "execute_result"
    }
   ],
   "source": [
    "mindistPts"
   ]
  },
  {
   "cell_type": "code",
   "execution_count": 64,
   "metadata": {},
   "outputs": [
    {
     "ename": "IndexError",
     "evalue": "too many indices for array: array is 1-dimensional, but 2 were indexed",
     "output_type": "error",
     "traceback": [
      "\u001b[1;31m---------------------------------------------------------------------------\u001b[0m",
      "\u001b[1;31mIndexError\u001b[0m                                Traceback (most recent call last)",
      "\u001b[1;32mc:\\Users\\QbaSo\\Desktop\\sem2\\MED\\projekt\\script hdbscan.ipynb Cell 13\u001b[0m in \u001b[0;36m<cell line: 2>\u001b[1;34m()\u001b[0m\n\u001b[0;32m      <a href='vscode-notebook-cell:/c%3A/Users/QbaSo/Desktop/sem2/MED/projekt/script%20hdbscan.ipynb#X15sZmlsZQ%3D%3D?line=0'>1</a>\u001b[0m plt\u001b[39m.\u001b[39mplot(X[closestidxs,\u001b[39m0\u001b[39m],X[closestidxs,\u001b[39m1\u001b[39m],\u001b[39m'\u001b[39m\u001b[39mo\u001b[39m\u001b[39m'\u001b[39m)\n\u001b[1;32m----> <a href='vscode-notebook-cell:/c%3A/Users/QbaSo/Desktop/sem2/MED/projekt/script%20hdbscan.ipynb#X15sZmlsZQ%3D%3D?line=1'>2</a>\u001b[0m plt\u001b[39m.\u001b[39mplot(X[curr][:,\u001b[39m0\u001b[39;49m],X[curr][:,\u001b[39m1\u001b[39m],\u001b[39m'\u001b[39m\u001b[39mo\u001b[39m\u001b[39m'\u001b[39m)\n",
      "\u001b[1;31mIndexError\u001b[0m: too many indices for array: array is 1-dimensional, but 2 were indexed"
     ]
    },
    {
     "data": {
      "image/png": "[encoded data removed]",
      "text/plain": [
       "<Figure size 432x288 with 1 Axes>"
      ]
     },
     "metadata": {
      "needs_background": "light"
     },
     "output_type": "display_data"
    }
   ],
   "source": [
    "plt.plot(X[closestidxs,0],X[closestidxs,1],'o')\n",
    "plt.plot(X[curr][:,0],X[curr][:,1],'o')"
   ]
  },
  {
   "cell_type": "code",
   "execution_count": 12,
   "metadata": {},
   "outputs": [
    {
     "data": {
      "text/plain": [
       "[<matplotlib.lines.Line2D at 0x1e4f028fee0>]"
      ]
     },
     "execution_count": 12,
     "metadata": {},
     "output_type": "execute_result"
    },
    {
     "data": {
      "image/png": "[encoded data removed]",
      "text/plain": [
       "<Figure size 432x288 with 1 Axes>"
      ]
     },
     "metadata": {
      "needs_background": "light"
     },
     "output_type": "display_data"
    }
   ],
   "source": [
    "i = 0\n",
    "point = X[i]\n",
    "dimdists = X - point\n",
    "dimdists[0] = 10\n",
    "dist = np.sqrt(np.sum(dimdists ** 2, axis=1))\n",
    "closesnidx = np.argsort(dist)[0]\n",
    "\n",
    "plt.plot(X[:,0],X[:,1],'o')\n",
    "plt.plot(X[closesnidx,0],X[closesnidx,1],'o')\n",
    "plt.plot(point[0],point[1],'o')"
   ]
  },
  {
   "cell_type": "code",
   "execution_count": 13,
   "metadata": {},
   "outputs": [
    {
     "data": {
      "text/plain": [
       "array([[1.00000000e+02, 1.00000000e+02],\n",
       "       [3.15629968e+00, 6.13405105e+00],\n",
       "       [1.33847838e-02, 5.67204883e+00],\n",
       "       [1.67363833e-02, 4.95900835e+00],\n",
       "       [8.28266171e-01, 4.42979482e+00],\n",
       "       [9.57444007e-03, 3.09936072e+00],\n",
       "       [4.10389839e-01, 2.60259691e+00],\n",
       "       [1.53889363e-02, 9.28122049e-01],\n",
       "       [4.84998368e+00, 4.66433764e+00],\n",
       "       [5.56228661e-04, 7.41032015e-01],\n",
       "       [6.30631366e+01, 5.83204815e-01],\n",
       "       [3.35044455e+01, 4.02062968e+00],\n",
       "       [2.15289081e+01, 9.47104053e-01],\n",
       "       [4.22716893e+01, 2.37489066e+00],\n",
       "       [2.18356088e+01, 9.76393514e-01],\n",
       "       [3.22998493e+01, 1.25557075e+00],\n",
       "       [5.11188407e+01, 3.40180378e+00],\n",
       "       [3.56713682e+01, 2.85013725e+00],\n",
       "       [2.28608610e+01, 7.00456486e-01],\n",
       "       [3.29964964e+01, 3.39324088e-01]])"
      ]
     },
     "execution_count": 13,
     "metadata": {},
     "output_type": "execute_result"
    }
   ],
   "source": [
    "dimdists ** 2"
   ]
  },
  {
   "cell_type": "code",
   "execution_count": 14,
   "metadata": {},
   "outputs": [
    {
     "data": {
      "text/plain": [
       "array([ 0.86115518,  0.97134494,  1.73579571,  1.76321728,  2.23063774,\n",
       "        2.29304623,  2.38441473,  3.04800767,  3.08452935,  4.74088728,\n",
       "        4.77619119,  4.85400015,  5.77371809,  5.79270404,  6.12577139,\n",
       "        6.20656954,  6.68180963,  7.38380962,  7.97786572, 14.14213562])"
      ]
     },
     "execution_count": 14,
     "metadata": {},
     "output_type": "execute_result"
    }
   ],
   "source": [
    "dist[np.argsort(dist)]\n"
   ]
  },
  {
   "cell_type": "code",
   "execution_count": 15,
   "metadata": {},
   "outputs": [],
   "source": [
    "def findNearestPoint(point, X):\n",
    "    dimdists = X - point\n",
    "    dist = np.sqrt(np.sum(dimdists ** 2, axis=1))\n",
    "    closesnidx = np.argsort(dist)[0]\n",
    "    return X[closesnidx]"
   ]
  },
  {
   "cell_type": "code",
   "execution_count": 16,
   "metadata": {},
   "outputs": [
    {
     "data": {
      "text/plain": [
       "array([0.9484302 , 0.85242556])"
      ]
     },
     "execution_count": 16,
     "metadata": {},
     "output_type": "execute_result"
    }
   ],
   "source": [
    "X[closesnidx]"
   ]
  },
  {
   "cell_type": "code",
   "execution_count": 17,
   "metadata": {},
   "outputs": [],
   "source": [
    "import operator\n",
    "\n",
    "def smallest_difference(points):\n",
    "    sorted_points = sorted(points)\n",
    "    return min(zip(sorted_points, sorted_points[1:]), key=lambda x: abs(x[1] - x[0]))"
   ]
  },
  {
   "cell_type": "code",
   "execution_count": 18,
   "metadata": {},
   "outputs": [
    {
     "ename": "ValueError",
     "evalue": "The truth value of an array with more than one element is ambiguous. Use a.any() or a.all()",
     "output_type": "error",
     "traceback": [
      "\u001b[1;31m---------------------------------------------------------------------------\u001b[0m",
      "\u001b[1;31mValueError\u001b[0m                                Traceback (most recent call last)",
      "\u001b[1;32mc:\\Users\\QbaSo\\Desktop\\sem2\\MED\\projekt\\script hdbscan.ipynb Cell 20\u001b[0m in \u001b[0;36m<cell line: 1>\u001b[1;34m()\u001b[0m\n\u001b[1;32m----> <a href='vscode-notebook-cell:/c%3A/Users/QbaSo/Desktop/sem2/MED/projekt/script%20hdbscan.ipynb#X25sZmlsZQ%3D%3D?line=0'>1</a>\u001b[0m smallest_difference(X)\n",
      "\u001b[1;32mc:\\Users\\QbaSo\\Desktop\\sem2\\MED\\projekt\\script hdbscan.ipynb Cell 20\u001b[0m in \u001b[0;36msmallest_difference\u001b[1;34m(points)\u001b[0m\n\u001b[0;32m      <a href='vscode-notebook-cell:/c%3A/Users/QbaSo/Desktop/sem2/MED/projekt/script%20hdbscan.ipynb#X25sZmlsZQ%3D%3D?line=2'>3</a>\u001b[0m \u001b[39mdef\u001b[39;00m \u001b[39msmallest_difference\u001b[39m(points):\n\u001b[1;32m----> <a href='vscode-notebook-cell:/c%3A/Users/QbaSo/Desktop/sem2/MED/projekt/script%20hdbscan.ipynb#X25sZmlsZQ%3D%3D?line=3'>4</a>\u001b[0m     sorted_points \u001b[39m=\u001b[39m \u001b[39msorted\u001b[39;49m(points)\n\u001b[0;32m      <a href='vscode-notebook-cell:/c%3A/Users/QbaSo/Desktop/sem2/MED/projekt/script%20hdbscan.ipynb#X25sZmlsZQ%3D%3D?line=4'>5</a>\u001b[0m     \u001b[39mreturn\u001b[39;00m \u001b[39mmin\u001b[39m(\u001b[39mzip\u001b[39m(sorted_points, sorted_points[\u001b[39m1\u001b[39m:]), key\u001b[39m=\u001b[39m\u001b[39mlambda\u001b[39;00m x: \u001b[39mabs\u001b[39m(x[\u001b[39m1\u001b[39m] \u001b[39m-\u001b[39m x[\u001b[39m0\u001b[39m]))\n",
      "\u001b[1;31mValueError\u001b[0m: The truth value of an array with more than one element is ambiguous. Use a.any() or a.all()"
     ]
    }
   ],
   "source": [
    "smallest_difference(X)"
   ]
  },
  {
   "cell_type": "code",
   "execution_count": 19,
   "metadata": {},
   "outputs": [
    {
     "data": {
      "text/plain": [
       "Text(0.5, 1.0, '[0.0609620568165985, -0.5380072229325067]')"
      ]
     },
     "execution_count": 19,
     "metadata": {},
     "output_type": "execute_result"
    },
    {
     "data": {
      "image/png": "[encoded data removed]",
      "text/plain": [
       "<Figure size 432x288 with 1 Axes>"
      ]
     },
     "metadata": {
      "needs_background": "light"
     },
     "output_type": "display_data"
    }
   ],
   "source": [
    "i = 0\n",
    "point = X[i]\n",
    "dimdists = X - point\n",
    "dist = np.sqrt(np.sum(dimdists ** 2, axis=1))\n",
    "closesnidx = np.argsort(dist)\n",
    "X = X[closesnidx]\n",
    "\n",
    "i = 13\n",
    "point = X[i]\n",
    "X_closesnidx = findNearestPoint(point, X[X[:,0]!=point[0]])\n",
    "plt.plot(X[:,0],X[:,1],'o')\n",
    "plt.plot(X_closesnidx[0],X_closesnidx[1],'o')\n",
    "plt.plot(point[0],point[1],'o')\n",
    "plt.plot([point[0],X_closesnidx[0]],[point[1],X_closesnidx[1]])\n",
    "plt.title([point[0]-X_closesnidx[0], point[1]-X_closesnidx[1]])"
   ]
  },
  {
   "cell_type": "code",
   "execution_count": 205,
   "metadata": {},
   "outputs": [
    {
     "data": {
      "text/plain": [
       "array([0.79802884, 0.84173967])"
      ]
     },
     "execution_count": 205,
     "metadata": {},
     "output_type": "execute_result"
    }
   ],
   "source": [
    "X_closesnidx"
   ]
  },
  {
   "cell_type": "code",
   "execution_count": 206,
   "metadata": {},
   "outputs": [
    {
     "data": {
      "text/plain": [
       "array([0.79802884, 0.84173967])"
      ]
     },
     "execution_count": 206,
     "metadata": {},
     "output_type": "execute_result"
    }
   ],
   "source": [
    "point"
   ]
  },
  {
   "cell_type": "code",
   "execution_count": 199,
   "metadata": {},
   "outputs": [
    {
     "data": {
      "text/plain": [
       "[<matplotlib.lines.Line2D at 0x1d246b59370>,\n",
       " <matplotlib.lines.Line2D at 0x1d246b4f280>]"
      ]
     },
     "execution_count": 199,
     "metadata": {},
     "output_type": "execute_result"
    },
    {
     "data": {
      "image/png": "[encoded data removed]",
      "text/plain": [
       "<Figure size 432x288 with 1 Axes>"
      ]
     },
     "metadata": {
      "needs_background": "light"
     },
     "output_type": "display_data"
    }
   ],
   "source": [
    "plt.plot(findNearestPoint(point, X))"
   ]
  },
  {
   "cell_type": "code",
   "execution_count": 168,
   "metadata": {},
   "outputs": [
    {
     "data": {
      "text/plain": [
       "array([ 0.38368352,  0.762535  ,  0.8068514 ,  0.84575307,  1.33621335,\n",
       "        1.41774482,  1.45396908,  1.51923042,  1.82583328,  4.60208238,\n",
       "        4.78611465,  5.70212625,  6.12243219,  6.1372891 ,  6.86177208,\n",
       "        7.25124752,  7.5298797 ,  7.57497614,  7.71067909, 14.14213562])"
      ]
     },
     "execution_count": 168,
     "metadata": {},
     "output_type": "execute_result"
    }
   ],
   "source": [
    "dist[np.argsort(dist)]"
   ]
  },
  {
   "cell_type": "code",
   "execution_count": 152,
   "metadata": {},
   "outputs": [
    {
     "data": {
      "text/plain": [
       "array([0.79802884, 0.84173967])"
      ]
     },
     "execution_count": 152,
     "metadata": {},
     "output_type": "execute_result"
    }
   ],
   "source": [
    "point"
   ]
  },
  {
   "cell_type": "code",
   "execution_count": 153,
   "metadata": {},
   "outputs": [
    {
     "data": {
      "text/plain": [
       "array([[ 0.        ,  0.        ],\n",
       "       [-0.15427884, -0.35129913],\n",
       "       [ 1.32162449,  0.1969133 ],\n",
       "       [-0.20137342,  1.40337063],\n",
       "       [ 0.73768062, -0.19309823],\n",
       "       [ 1.68647391,  0.69962341],\n",
       "       [ 0.82011266,  0.20667241],\n",
       "       [-1.04477764,  1.10295092],\n",
       "       [ 0.78332104,  0.19343558],\n",
       "       [-0.04398234, -1.4533037 ],\n",
       "       [ 7.29036327,  1.88406256],\n",
       "       [ 6.12145165,  0.10956992],\n",
       "       [ 7.24262262, -0.35356503],\n",
       "       [ 7.54875953,  0.62967698],\n",
       "       [ 7.70433897,  0.31262287],\n",
       "       [ 4.69645282, -0.92207614],\n",
       "       [ 6.1074222 , -0.60474094],\n",
       "       [ 4.59736206, -0.20838486],\n",
       "       [ 5.6211141 , -0.95776825],\n",
       "       [ 6.75047609,  1.23084873]])"
      ]
     },
     "execution_count": 153,
     "metadata": {},
     "output_type": "execute_result"
    }
   ],
   "source": [
    "X - point"
   ]
  },
  {
   "cell_type": "code",
   "execution_count": 298,
   "metadata": {},
   "outputs": [
    {
     "name": "stderr",
     "output_type": "stream",
     "text": [
      "c:\\Users\\QbaSo\\AppData\\Local\\Programs\\Python\\Python39\\lib\\site-packages\\pandas\\core\\internals\\managers.py:304: ShapelyDeprecationWarning: The array interface is deprecated and will no longer work in Shapely 2.0. Convert the '.coords' to a numpy array instead.\n",
      "  applied = getattr(b, f)(**kwargs)\n",
      "c:\\Users\\QbaSo\\AppData\\Local\\Programs\\Python\\Python39\\lib\\site-packages\\pandas\\core\\internals\\managers.py:304: ShapelyDeprecationWarning: The array interface is deprecated and will no longer work in Shapely 2.0. Convert the '.coords' to a numpy array instead.\n",
      "  applied = getattr(b, f)(**kwargs)\n",
      "c:\\Users\\QbaSo\\AppData\\Local\\Programs\\Python\\Python39\\lib\\site-packages\\pandas\\core\\internals\\managers.py:304: ShapelyDeprecationWarning: The array interface is deprecated and will no longer work in Shapely 2.0. Convert the '.coords' to a numpy array instead.\n",
      "  applied = getattr(b, f)(**kwargs)\n",
      "c:\\Users\\QbaSo\\AppData\\Local\\Programs\\Python\\Python39\\lib\\site-packages\\pandas\\core\\internals\\managers.py:304: ShapelyDeprecationWarning: The array interface is deprecated and will no longer work in Shapely 2.0. Convert the '.coords' to a numpy array instead.\n",
      "  applied = getattr(b, f)(**kwargs)\n",
      "c:\\Users\\QbaSo\\AppData\\Local\\Programs\\Python\\Python39\\lib\\site-packages\\pandas\\core\\internals\\managers.py:304: ShapelyDeprecationWarning: The array interface is deprecated and will no longer work in Shapely 2.0. Convert the '.coords' to a numpy array instead.\n",
      "  applied = getattr(b, f)(**kwargs)\n",
      "c:\\Users\\QbaSo\\AppData\\Local\\Programs\\Python\\Python39\\lib\\site-packages\\pandas\\core\\internals\\managers.py:304: ShapelyDeprecationWarning: The array interface is deprecated and will no longer work in Shapely 2.0. Convert the '.coords' to a numpy array instead.\n",
      "  applied = getattr(b, f)(**kwargs)\n",
      "c:\\Users\\QbaSo\\AppData\\Local\\Programs\\Python\\Python39\\lib\\site-packages\\pandas\\core\\internals\\managers.py:304: ShapelyDeprecationWarning: The array interface is deprecated and will no longer work in Shapely 2.0. Convert the '.coords' to a numpy array instead.\n",
      "  applied = getattr(b, f)(**kwargs)\n",
      "c:\\Users\\QbaSo\\AppData\\Local\\Programs\\Python\\Python39\\lib\\site-packages\\pandas\\core\\internals\\managers.py:304: ShapelyDeprecationWarning: The array interface is deprecated and will no longer work in Shapely 2.0. Convert the '.coords' to a numpy array instead.\n",
      "  applied = getattr(b, f)(**kwargs)\n",
      "c:\\Users\\QbaSo\\AppData\\Local\\Programs\\Python\\Python39\\lib\\site-packages\\pandas\\core\\internals\\managers.py:304: ShapelyDeprecationWarning: The array interface is deprecated and will no longer work in Shapely 2.0. Convert the '.coords' to a numpy array instead.\n",
      "  applied = getattr(b, f)(**kwargs)\n",
      "c:\\Users\\QbaSo\\AppData\\Local\\Programs\\Python\\Python39\\lib\\site-packages\\pandas\\core\\internals\\managers.py:304: ShapelyDeprecationWarning: The array interface is deprecated and will no longer work in Shapely 2.0. Convert the '.coords' to a numpy array instead.\n",
      "  applied = getattr(b, f)(**kwargs)\n",
      "c:\\Users\\QbaSo\\AppData\\Local\\Programs\\Python\\Python39\\lib\\site-packages\\pandas\\core\\internals\\managers.py:304: ShapelyDeprecationWarning: The array interface is deprecated and will no longer work in Shapely 2.0. Convert the '.coords' to a numpy array instead.\n",
      "  applied = getattr(b, f)(**kwargs)\n",
      "c:\\Users\\QbaSo\\AppData\\Local\\Programs\\Python\\Python39\\lib\\site-packages\\pandas\\core\\internals\\managers.py:304: ShapelyDeprecationWarning: The array interface is deprecated and will no longer work in Shapely 2.0. Convert the '.coords' to a numpy array instead.\n",
      "  applied = getattr(b, f)(**kwargs)\n",
      "c:\\Users\\QbaSo\\AppData\\Local\\Programs\\Python\\Python39\\lib\\site-packages\\pandas\\core\\internals\\managers.py:304: ShapelyDeprecationWarning: The array interface is deprecated and will no longer work in Shapely 2.0. Convert the '.coords' to a numpy array instead.\n",
      "  applied = getattr(b, f)(**kwargs)\n",
      "c:\\Users\\QbaSo\\AppData\\Local\\Programs\\Python\\Python39\\lib\\site-packages\\pandas\\core\\internals\\managers.py:304: ShapelyDeprecationWarning: The array interface is deprecated and will no longer work in Shapely 2.0. Convert the '.coords' to a numpy array instead.\n",
      "  applied = getattr(b, f)(**kwargs)\n",
      "c:\\Users\\QbaSo\\AppData\\Local\\Programs\\Python\\Python39\\lib\\site-packages\\pandas\\core\\internals\\managers.py:304: ShapelyDeprecationWarning: The array interface is deprecated and will no longer work in Shapely 2.0. Convert the '.coords' to a numpy array instead.\n",
      "  applied = getattr(b, f)(**kwargs)\n",
      "c:\\Users\\QbaSo\\AppData\\Local\\Programs\\Python\\Python39\\lib\\site-packages\\pandas\\core\\internals\\managers.py:304: ShapelyDeprecationWarning: The array interface is deprecated and will no longer work in Shapely 2.0. Convert the '.coords' to a numpy array instead.\n",
      "  applied = getattr(b, f)(**kwargs)\n",
      "c:\\Users\\QbaSo\\AppData\\Local\\Programs\\Python\\Python39\\lib\\site-packages\\pandas\\core\\internals\\managers.py:304: ShapelyDeprecationWarning: The array interface is deprecated and will no longer work in Shapely 2.0. Convert the '.coords' to a numpy array instead.\n",
      "  applied = getattr(b, f)(**kwargs)\n",
      "c:\\Users\\QbaSo\\AppData\\Local\\Programs\\Python\\Python39\\lib\\site-packages\\pandas\\core\\internals\\managers.py:304: ShapelyDeprecationWarning: The array interface is deprecated and will no longer work in Shapely 2.0. Convert the '.coords' to a numpy array instead.\n",
      "  applied = getattr(b, f)(**kwargs)\n",
      "c:\\Users\\QbaSo\\AppData\\Local\\Programs\\Python\\Python39\\lib\\site-packages\\pandas\\core\\internals\\managers.py:304: ShapelyDeprecationWarning: The array interface is deprecated and will no longer work in Shapely 2.0. Convert the '.coords' to a numpy array instead.\n",
      "  applied = getattr(b, f)(**kwargs)\n",
      "c:\\Users\\QbaSo\\AppData\\Local\\Programs\\Python\\Python39\\lib\\site-packages\\pandas\\core\\internals\\managers.py:304: ShapelyDeprecationWarning: The array interface is deprecated and will no longer work in Shapely 2.0. Convert the '.coords' to a numpy array instead.\n",
      "  applied = getattr(b, f)(**kwargs)\n"
     ]
    }
   ],
   "source": [
    "import geopandas as gpd\n",
    "from shapely.geometry import Point\n",
    "from shapely.ops import nearest_points\n",
    "import geopandas\n",
    "\n",
    "df = gpd.GeoDataFrame(geopandas.GeoSeries(geopandas.points_from_xy(X[:,0], X[:,1])), columns=['geometry'])\n",
    "df.insert(1, 'nearest_geometry', None)\n",
    "\n",
    "for index, row in df.iterrows():\n",
    "    point = row.geometry\n",
    "    multipoint = df.drop(index, axis=0).geometry.unary_union\n",
    "    queried_geom, nearest_geom = nearest_points(point, multipoint)\n",
    "    df.loc[index, 'nearest_geometry'] = nearest_geom"
   ]
  },
  {
   "cell_type": "code",
   "execution_count": null,
   "metadata": {},
   "outputs": [],
   "source": [
    "nearest_geometry"
   ]
  },
  {
   "cell_type": "code",
   "execution_count": 311,
   "metadata": {},
   "outputs": [
    {
     "data": {
      "text/plain": [
       "[<matplotlib.lines.Line2D at 0x1d251040fd0>]"
      ]
     },
     "execution_count": 311,
     "metadata": {},
     "output_type": "execute_result"
    },
    {
     "data": {
      "image/png": "[encoded data removed]",
      "text/plain": [
       "<Figure size 432x288 with 1 Axes>"
      ]
     },
     "metadata": {
      "needs_background": "light"
     },
     "output_type": "display_data"
    }
   ],
   "source": [
    "plt.plot(X[:,0],X[:,1],'o')\n",
    "plt.plot([df.iloc[0].geometry.x, df.iloc[0].nearest_geometry.x], [df.iloc[0].geometry.y, df.iloc[0].nearest_geometry.y])"
   ]
  },
  {
   "cell_type": "code",
   "execution_count": 312,
   "metadata": {},
   "outputs": [
    {
     "data": {
      "text/html": [
       "<div>\n",
       "<style scoped>\n",
       "    .dataframe tbody tr th:only-of-type {\n",
       "        vertical-align: middle;\n",
       "    }\n",
       "\n",
       "    .dataframe tbody tr th {\n",
       "        vertical-align: top;\n",
       "    }\n",
       "\n",
       "    .dataframe thead th {\n",
       "        text-align: right;\n",
       "    }\n",
       "</style>\n",
       "<table border=\"1\" class=\"dataframe\">\n",
       "  <thead>\n",
       "    <tr style=\"text-align: right;\">\n",
       "      <th></th>\n",
       "      <th>geometry</th>\n",
       "      <th>nearest_geometry</th>\n",
       "    </tr>\n",
       "  </thead>\n",
       "  <tbody>\n",
       "    <tr>\n",
       "      <th>0</th>\n",
       "      <td>POINT (1.59341 1.38390)</td>\n",
       "      <td>POINT (1.8459143550053172 1.8414792473825452)</td>\n",
       "    </tr>\n",
       "    <tr>\n",
       "      <th>1</th>\n",
       "      <td>POINT (1.84591 1.84148)</td>\n",
       "      <td>POINT (1.5934114341326393 1.3839019168355455)</td>\n",
       "    </tr>\n",
       "    <tr>\n",
       "      <th>2</th>\n",
       "      <td>POINT (1.18444 0.95203)</td>\n",
       "      <td>POINT (0.8553494148266843 1.126750301748387)</td>\n",
       "    </tr>\n",
       "    <tr>\n",
       "      <th>3</th>\n",
       "      <td>POINT (1.23186 2.07263)</td>\n",
       "      <td>POINT (1.8459143550053172 1.8414792473825452)</td>\n",
       "    </tr>\n",
       "    <tr>\n",
       "      <th>4</th>\n",
       "      <td>POINT (0.85535 1.12675)</td>\n",
       "      <td>POINT (0.6165531879231483 0.9177735704803891)</td>\n",
       "    </tr>\n",
       "    <tr>\n",
       "      <th>5</th>\n",
       "      <td>POINT (0.61655 0.91777)</td>\n",
       "      <td>POINT (0.8553494148266843 1.126750301748387)</td>\n",
       "    </tr>\n",
       "    <tr>\n",
       "      <th>6</th>\n",
       "      <td>POINT (1.45125 0.21228)</td>\n",
       "      <td>POINT (1.1844365569089705 0.9520349622028953)</td>\n",
       "    </tr>\n",
       "    <tr>\n",
       "      <th>7</th>\n",
       "      <td>POINT (-0.49814 1.44483)</td>\n",
       "      <td>POINT (-0.6044926880613066 0.2909389601797096)</td>\n",
       "    </tr>\n",
       "    <tr>\n",
       "      <th>8</th>\n",
       "      <td>POINT (-0.60449 0.29094)</td>\n",
       "      <td>POINT (-0.498135671420973 1.4448255781520043)</td>\n",
       "    </tr>\n",
       "    <tr>\n",
       "      <th>9</th>\n",
       "      <td>POINT (1.18138 -1.06349)</td>\n",
       "      <td>POINT (1.4512538176039311 0.2122842580036954)</td>\n",
       "    </tr>\n",
       "    <tr>\n",
       "      <th>10</th>\n",
       "      <td>POINT (5.40248 -0.53738)</td>\n",
       "      <td>POINT (5.830763100238606 0.0546579853694419)</td>\n",
       "    </tr>\n",
       "    <tr>\n",
       "      <th>11</th>\n",
       "      <td>POINT (5.83076 0.05466)</td>\n",
       "      <td>POINT (5.402484474256597 -0.5373768453437213)</td>\n",
       "    </tr>\n",
       "    <tr>\n",
       "      <th>12</th>\n",
       "      <td>POINT (6.24631 1.88024)</td>\n",
       "      <td>POINT (6.463569056240023 1.4298148154639179)</td>\n",
       "    </tr>\n",
       "    <tr>\n",
       "      <th>13</th>\n",
       "      <td>POINT (6.46357 1.42981)</td>\n",
       "      <td>POINT (6.70660641107575 1.5631505253101083)</td>\n",
       "    </tr>\n",
       "    <tr>\n",
       "      <th>14</th>\n",
       "      <td>POINT (6.70661 1.56315)</td>\n",
       "      <td>POINT (6.463569056240023 1.4298148154639179)</td>\n",
       "    </tr>\n",
       "    <tr>\n",
       "      <th>15</th>\n",
       "      <td>POINT (7.18105 0.43740)</td>\n",
       "      <td>POINT (7.770455225619561 0.7529267511172031)</td>\n",
       "    </tr>\n",
       "    <tr>\n",
       "      <th>16</th>\n",
       "      <td>POINT (7.77046 0.75293)</td>\n",
       "      <td>POINT (7.181049856705107 0.4374025827530543)</td>\n",
       "    </tr>\n",
       "    <tr>\n",
       "      <th>17</th>\n",
       "      <td>POINT (8.05808 2.73073)</td>\n",
       "      <td>POINT (6.70660641107575 1.5631505253101083)</td>\n",
       "    </tr>\n",
       "    <tr>\n",
       "      <th>18</th>\n",
       "      <td>POINT (7.91058 -1.65976)</td>\n",
       "      <td>POINT (7.181049856705107 0.4374025827530543)</td>\n",
       "    </tr>\n",
       "    <tr>\n",
       "      <th>19</th>\n",
       "      <td>POINT (9.20148 0.62996)</td>\n",
       "      <td>POINT (7.770455225619561 0.7529267511172031)</td>\n",
       "    </tr>\n",
       "  </tbody>\n",
       "</table>\n",
       "</div>"
      ],
      "text/plain": [
       "                    geometry                                nearest_geometry\n",
       "0    POINT (1.59341 1.38390)   POINT (1.8459143550053172 1.8414792473825452)\n",
       "1    POINT (1.84591 1.84148)   POINT (1.5934114341326393 1.3839019168355455)\n",
       "2    POINT (1.18444 0.95203)    POINT (0.8553494148266843 1.126750301748387)\n",
       "3    POINT (1.23186 2.07263)   POINT (1.8459143550053172 1.8414792473825452)\n",
       "4    POINT (0.85535 1.12675)   POINT (0.6165531879231483 0.9177735704803891)\n",
       "5    POINT (0.61655 0.91777)    POINT (0.8553494148266843 1.126750301748387)\n",
       "6    POINT (1.45125 0.21228)   POINT (1.1844365569089705 0.9520349622028953)\n",
       "7   POINT (-0.49814 1.44483)  POINT (-0.6044926880613066 0.2909389601797096)\n",
       "8   POINT (-0.60449 0.29094)   POINT (-0.498135671420973 1.4448255781520043)\n",
       "9   POINT (1.18138 -1.06349)   POINT (1.4512538176039311 0.2122842580036954)\n",
       "10  POINT (5.40248 -0.53738)    POINT (5.830763100238606 0.0546579853694419)\n",
       "11   POINT (5.83076 0.05466)   POINT (5.402484474256597 -0.5373768453437213)\n",
       "12   POINT (6.24631 1.88024)    POINT (6.463569056240023 1.4298148154639179)\n",
       "13   POINT (6.46357 1.42981)     POINT (6.70660641107575 1.5631505253101083)\n",
       "14   POINT (6.70661 1.56315)    POINT (6.463569056240023 1.4298148154639179)\n",
       "15   POINT (7.18105 0.43740)    POINT (7.770455225619561 0.7529267511172031)\n",
       "16   POINT (7.77046 0.75293)    POINT (7.181049856705107 0.4374025827530543)\n",
       "17   POINT (8.05808 2.73073)     POINT (6.70660641107575 1.5631505253101083)\n",
       "18  POINT (7.91058 -1.65976)    POINT (7.181049856705107 0.4374025827530543)\n",
       "19   POINT (9.20148 0.62996)    POINT (7.770455225619561 0.7529267511172031)"
      ]
     },
     "execution_count": 312,
     "metadata": {},
     "output_type": "execute_result"
    }
   ],
   "source": [
    "df"
   ]
  },
  {
   "cell_type": "code",
   "execution_count": 26,
   "metadata": {},
   "outputs": [
    {
     "data": {
      "text/plain": [
       "0     POINT (2.67840 1.70324)\n",
       "1     POINT (1.63128 2.47102)\n",
       "2    POINT (-0.10894 2.56577)\n",
       "3     POINT (0.05097 1.71517)\n",
       "4     POINT (1.80004 0.78007)\n",
       "dtype: geometry"
      ]
     },
     "execution_count": 26,
     "metadata": {},
     "output_type": "execute_result"
    }
   ],
   "source": [
    "import geopandas\n",
    "from shapely.geometry import Point, box\n",
    "from shapely.ops import nearest_points\n",
    "\n",
    "pts = geopandas.GeoSeries(geopandas.points_from_xy(X[:,0], X[:,1]))\n",
    "pts.head()"
   ]
  },
  {
   "cell_type": "code",
   "execution_count": 39,
   "metadata": {},
   "outputs": [
    {
     "ename": "TypeError",
     "evalue": "unsupported operand type(s) for -: 'tuple' and 'tuple'",
     "output_type": "error",
     "traceback": [
      "\u001b[1;31m---------------------------------------------------------------------------\u001b[0m",
      "\u001b[1;31mTypeError\u001b[0m                                 Traceback (most recent call last)",
      "\u001b[1;32mc:\\Users\\QbaSo\\Desktop\\sem2\\MED\\projekt\\script hdbscan.ipynb Cell 8\u001b[0m in \u001b[0;36m<cell line: 1>\u001b[1;34m()\u001b[0m\n\u001b[1;32m----> <a href='vscode-notebook-cell:/c%3A/Users/QbaSo/Desktop/sem2/MED/projekt/script%20hdbscan.ipynb#X20sZmlsZQ%3D%3D?line=0'>1</a>\u001b[0m pts[\u001b[39m0\u001b[39;49m]\u001b[39m.\u001b[39;49mcoords[\u001b[39m0\u001b[39;49m] \u001b[39m-\u001b[39;49m pts[\u001b[39m1\u001b[39;49m]\u001b[39m.\u001b[39;49mcoords[\u001b[39m0\u001b[39;49m]\n",
      "\u001b[1;31mTypeError\u001b[0m: unsupported operand type(s) for -: 'tuple' and 'tuple'"
     ]
    }
   ],
   "source": [
    "pts[0].coords[0] - pts[1].coords[0]"
   ]
  },
  {
   "cell_type": "code",
   "execution_count": 40,
   "metadata": {},
   "outputs": [
    {
     "ename": "AttributeError",
     "evalue": "'GeoSeries' object has no attribute '_geom'",
     "output_type": "error",
     "traceback": [
      "\u001b[1;31m---------------------------------------------------------------------------\u001b[0m",
      "\u001b[1;31mAttributeError\u001b[0m                            Traceback (most recent call last)",
      "\u001b[1;32mc:\\Users\\QbaSo\\Desktop\\sem2\\MED\\projekt\\script hdbscan.ipynb Cell 9\u001b[0m in \u001b[0;36m<cell line: 1>\u001b[1;34m()\u001b[0m\n\u001b[1;32m----> <a href='vscode-notebook-cell:/c%3A/Users/QbaSo/Desktop/sem2/MED/projekt/script%20hdbscan.ipynb#X16sZmlsZQ%3D%3D?line=0'>1</a>\u001b[0m nearest_points(pts[\u001b[39m0\u001b[39;49m], pts)\n",
      "File \u001b[1;32mc:\\Users\\QbaSo\\AppData\\Local\\Programs\\Python\\Python39\\lib\\site-packages\\shapely\\ops.py:333\u001b[0m, in \u001b[0;36mnearest_points\u001b[1;34m(g1, g2)\u001b[0m\n\u001b[0;32m    328\u001b[0m \u001b[39mdef\u001b[39;00m \u001b[39mnearest_points\u001b[39m(g1, g2):\n\u001b[0;32m    329\u001b[0m     \u001b[39m\"\"\"Returns the calculated nearest points in the input geometries\u001b[39;00m\n\u001b[0;32m    330\u001b[0m \n\u001b[0;32m    331\u001b[0m \u001b[39m    The points are returned in the same order as the input geometries.\u001b[39;00m\n\u001b[0;32m    332\u001b[0m \u001b[39m    \"\"\"\u001b[39;00m\n\u001b[1;32m--> 333\u001b[0m     seq \u001b[39m=\u001b[39m lgeos\u001b[39m.\u001b[39mmethods[\u001b[39m'\u001b[39m\u001b[39mnearest_points\u001b[39m\u001b[39m'\u001b[39m](g1\u001b[39m.\u001b[39m_geom, g2\u001b[39m.\u001b[39;49m_geom)\n\u001b[0;32m    334\u001b[0m     \u001b[39mif\u001b[39;00m seq \u001b[39mis\u001b[39;00m \u001b[39mNone\u001b[39;00m:\n\u001b[0;32m    335\u001b[0m         \u001b[39mif\u001b[39;00m g1\u001b[39m.\u001b[39mis_empty:\n",
      "File \u001b[1;32mc:\\Users\\QbaSo\\AppData\\Local\\Programs\\Python\\Python39\\lib\\site-packages\\pandas\\core\\generic.py:5575\u001b[0m, in \u001b[0;36mNDFrame.__getattr__\u001b[1;34m(self, name)\u001b[0m\n\u001b[0;32m   5568\u001b[0m \u001b[39mif\u001b[39;00m (\n\u001b[0;32m   5569\u001b[0m     name \u001b[39mnot\u001b[39;00m \u001b[39min\u001b[39;00m \u001b[39mself\u001b[39m\u001b[39m.\u001b[39m_internal_names_set\n\u001b[0;32m   5570\u001b[0m     \u001b[39mand\u001b[39;00m name \u001b[39mnot\u001b[39;00m \u001b[39min\u001b[39;00m \u001b[39mself\u001b[39m\u001b[39m.\u001b[39m_metadata\n\u001b[0;32m   5571\u001b[0m     \u001b[39mand\u001b[39;00m name \u001b[39mnot\u001b[39;00m \u001b[39min\u001b[39;00m \u001b[39mself\u001b[39m\u001b[39m.\u001b[39m_accessors\n\u001b[0;32m   5572\u001b[0m     \u001b[39mand\u001b[39;00m \u001b[39mself\u001b[39m\u001b[39m.\u001b[39m_info_axis\u001b[39m.\u001b[39m_can_hold_identifiers_and_holds_name(name)\n\u001b[0;32m   5573\u001b[0m ):\n\u001b[0;32m   5574\u001b[0m     \u001b[39mreturn\u001b[39;00m \u001b[39mself\u001b[39m[name]\n\u001b[1;32m-> 5575\u001b[0m \u001b[39mreturn\u001b[39;00m \u001b[39mobject\u001b[39;49m\u001b[39m.\u001b[39;49m\u001b[39m__getattribute__\u001b[39;49m(\u001b[39mself\u001b[39;49m, name)\n",
      "\u001b[1;31mAttributeError\u001b[0m: 'GeoSeries' object has no attribute '_geom'"
     ]
    }
   ],
   "source": [
    "nearest_points(pts[0], pts)"
   ]
  },
  {
   "cell_type": "markdown",
   "metadata": {},
   "source": [
    "# DBSCAN"
   ]
  },
  {
   "cell_type": "code",
   "execution_count": 3,
   "metadata": {},
   "outputs": [],
   "source": [
    "eps = 0.8\n",
    "minPts = 20"
   ]
  },
  {
   "cell_type": "markdown",
   "metadata": {},
   "source": [
    "# Scikit Benchmark"
   ]
  },
  {
   "cell_type": "code",
   "execution_count": 4,
   "metadata": {},
   "outputs": [
    {
     "name": "stdout",
     "output_type": "stream",
     "text": [
      "Estimated number of clusters: 2\n",
      "Estimated number of noise points: 15\n",
      "Homogeneity: 0.978\n",
      "Completeness: 0.926\n",
      "V-measure: 0.951\n",
      "Adjusted Rand Index: 0.979\n",
      "Adjusted Mutual Information: 0.951\n",
      "Silhouette Coefficient: 0.640\n"
     ]
    },
    {
     "data": {
      "image/png": "[encoded data removed]",
      "text/plain": [
       "<Figure size 432x288 with 1 Axes>"
      ]
     },
     "metadata": {
      "needs_background": "light"
     },
     "output_type": "display_data"
    }
   ],
   "source": [
    "from sklearn.cluster import DBSCAN\n",
    "\n",
    "clustering = DBSCAN(eps=eps, min_samples=minPts).fit(X)\n",
    "labels = clustering.labels_\n",
    "\n",
    "evaluate(labels, labels_true, X)"
   ]
  },
  {
   "cell_type": "markdown",
   "metadata": {},
   "source": [
    "# Our implementation"
   ]
  },
  {
   "cell_type": "code",
   "execution_count": 5,
   "metadata": {},
   "outputs": [
    {
     "name": "stdout",
     "output_type": "stream",
     "text": [
      "Estimated number of clusters: 2\n",
      "Estimated number of noise points: 17\n",
      "Homogeneity: 0.977\n",
      "Completeness: 0.920\n",
      "V-measure: 0.948\n",
      "Adjusted Rand Index: 0.977\n",
      "Adjusted Mutual Information: 0.947\n",
      "Silhouette Coefficient: 0.643\n"
     ]
    },
    {
     "data": {
      "image/png": "[encoded data removed]",
      "text/plain": [
       "<Figure size 432x288 with 1 Axes>"
      ]
     },
     "metadata": {
      "needs_background": "light"
     },
     "output_type": "display_data"
    }
   ],
   "source": [
    "from DBSCAN import DBSCAN, numpyToPoints\n",
    "\n",
    "Points = numpyToPoints(X)\n",
    "\n",
    "clustering = DBSCAN(eps, minPts)\n",
    "clustering.fit(Points)\n",
    "labels = clustering.labels\n",
    "\n",
    "evaluate(labels, labels_true, X)"
   ]
  }
 ],
 "metadata": {
  "kernelspec": {
   "display_name": "Python 3.9.10 64-bit",
   "language": "python",
   "name": "python3"
  },
  "language_info": {
   "codemirror_mode": {
    "name": "ipython",
    "version": 3
   },
   "file_extension": ".py",
   "mimetype": "text/x-python",
   "name": "python",
   "nbconvert_exporter": "python",
   "pygments_lexer": "ipython3",
   "version": "3.9.10"
  },
  "orig_nbformat": 4,
  "vscode": {
   "interpreter": {
    "hash": "4249f8e087ad731f5e338836e2eb79540285f90ed1dfcc5ccaf8d5c2082bb200"
   }
  }
 },
 "nbformat": 4,
 "nbformat_minor": 2
}
